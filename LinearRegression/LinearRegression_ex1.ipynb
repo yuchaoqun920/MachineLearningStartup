{
 "cells": [
  {
   "cell_type": "code",
   "execution_count": 10,
   "metadata": {
    "collapsed": true
   },
   "outputs": [],
   "source": [
    "#!/usr/bin/python\n",
    "# -*- coding:utf-8 -*-\n",
    "\n",
    "from time import time as timenow\n",
    "import math\n",
    "import numpy as np\n",
    "import matplotlib\n",
    "from mpl_toolkits.mplot3d import Axes3D\n",
    "from matplotlib import cm\n",
    "from scipy.optimize import leastsq\n",
    "import scipy.optimize as opt\n",
    "import scipy\n",
    "import matplotlib.pyplot as plt\n",
    "\n",
    "def warmUpExercise():\n",
    "    print np.eye(5)\n",
    "\n",
    "def plotData(x, y):\n",
    "    plt.plot(x, y, 'go', markersize=8)\n",
    "    plt.xlabel('Population of City in 10,000s')\n",
    "    plt.ylabel('Profit in $10,000s')\n",
    "    plt.show()\n",
    "\n",
    "# theta' * X - y\n",
    "def computeCost(X, y, theta):\n",
    "    m = len(y)\n",
    "    y_hat = np.dot(X, theta)\n",
    "    cost = np.dot((y_hat-y).T, (y_hat-y))/(2.0*m)\n",
    "    return cost[0, 0]\n",
    "\n",
    "def gradientDescent(X, y, theta, alpha, iterations):\n",
    "    m = len(y)\n",
    "    j_history = np.zeros((iterations, 1))\n",
    "\n",
    "    for iter in range(iterations):\n",
    "        error = np.dot(X, theta)-y\n",
    "        delta = np.dot(X.T, error)*alpha/m\n",
    "        theta = theta - delta\n",
    "\n",
    "        j_history[iter] = computeCost(X, y, theta)\n",
    "\n",
    "    # plt.plot(j_history, 'b-', linewidth=4)\n",
    "    # plt.show()\n",
    "    # print j_history\n",
    "\n",
    "    return theta"
   ]
  },
  {
   "cell_type": "code",
   "execution_count": 11,
   "metadata": {
    "collapsed": false
   },
   "outputs": [
    {
     "name": "stdout",
     "output_type": "stream",
     "text": [
      "32.0727338775\n",
      "[[-3.63029144]\n",
      " [ 1.16636235]]\n"
     ]
    }
   ],
   "source": [
    "# numpy读入\n",
    "data = np.loadtxt('ex1data1.txt', delimiter=',', skiprows=0)\n",
    "# print data\n",
    "\n",
    "x, y = np.split(data, (1,), axis=1)\n",
    "\n",
    "# X = data[:, 0]\n",
    "# y = data[:, 1]\n",
    "m = len(y)\n",
    "# print x.shape, y.shape\n",
    "# plotData(X, y)\n",
    "#\n",
    "# raw_input()\n",
    "\n",
    "X = np.hstack((np.ones((m,1)), data[:, 0].reshape((m,1))))\n",
    "# print X\n",
    "theta = np.zeros((2, 1))\n",
    "cost1 = computeCost(X, y, theta)\n",
    "print cost1\n",
    "\n",
    "iterations = 1500\n",
    "alpha = 0.01\n",
    "\n",
    "theta = gradientDescent(X, y, theta, alpha, iterations)\n",
    "print theta"
   ]
  },
  {
   "cell_type": "code",
   "execution_count": 15,
   "metadata": {
    "collapsed": true
   },
   "outputs": [],
   "source": [
    "y_hat = np.dot(X, theta)\n",
    "\n",
    "plt.plot(X[:, 1], y, 'rx', markersize=8)\n",
    "plt.plot(X[:, 1], y_hat, 'g-', linewidth=2)\n",
    "plt.xlim(4, 25)\n",
    "plt.xlabel('Population of City in 10,000s')\n",
    "plt.ylabel('Profit in $10,000s')\n",
    "plt.show()"
   ]
  },
  {
   "cell_type": "code",
   "execution_count": 69,
   "metadata": {
    "collapsed": false
   },
   "outputs": [
    {
     "name": "stdout",
     "output_type": "stream",
     "text": [
      "(10000L, 2L)\n",
      "(10000L, 1L)\n",
      "[[ 255.90944448]\n",
      " [ 251.49566166]\n",
      " [ 247.122691  ]\n",
      " ..., \n",
      " [ 412.56672081]\n",
      " [ 418.28353589]\n",
      " [ 424.04116313]]\n"
     ]
    }
   ],
   "source": [
    "# 画3D图\n",
    "N, M = 100, 100     # 横纵各采样多少个值\n",
    "x1_min, x1_max = -10, 10   # 第0列的范围\n",
    "x2_min, x2_max = -1, 4     # 第1列的范围\n",
    "t1 = np.linspace(x1_min, x1_max, N)\n",
    "t2 = np.linspace(x2_min, x2_max, M)\n",
    "x1, x2 = np.meshgrid(t1, t2)                    # 生成网格采样点\n",
    "x_test = np.stack((x1.flat, x2.flat), axis=1)   # 测试点\n",
    "# x_test = np.vstack((x1.flat, x2.flat))  # 测试点\n",
    "\n",
    "print x_test.shape\n",
    "\n",
    "j_vals = np.zeros((len(x_test), 1))\n",
    "for i in range(len(x_test)):\n",
    "    j_vals[i] = computeCost(X, y, x_test[i, :])\n",
    "\n",
    "print j_vals.shape\n",
    "\n",
    "fig = plt.figure()\n",
    "# ax = fig.add_subplot(111, projection='3d')\n",
    "# ax.plot_surface(x1, x2, j_vals.reshape(x1.shape), rstride=1, cstride=1, cmap=cm.coolwarm, linewidth=0)\n",
    "ax = fig.gca(projection='3d')\n",
    "surf = ax.plot_surface(x1, x2, j_vals.reshape(x1.shape), rstride=1, cstride=1, cmap=cm.rainbow, linewidth=0, antialiased=False)\n",
    "fig.colorbar(surf, shrink=0.5, aspect=5)\n",
    "plt.show()\n",
    "print j_vals"
   ]
  },
  {
   "cell_type": "code",
   "execution_count": 40,
   "metadata": {
    "collapsed": false
   },
   "outputs": [
    {
     "name": "stdout",
     "output_type": "stream",
     "text": [
      "(2L, 1L)\n",
      "42.265044689\n",
      "(2L, 10000L)\n"
     ]
    }
   ],
   "source": [
    "print theta.shape\n",
    "print computeCost(X, y, np.array([1,2]))\n",
    "# print X\n",
    "# print y\n",
    "x_test = np.stack((x1.flat, x2.flat), axis=0) \n",
    "print x_test.shape"
   ]
  },
  {
   "cell_type": "code",
   "execution_count": 58,
   "metadata": {
    "collapsed": false
   },
   "outputs": [
    {
     "name": "stdout",
     "output_type": "stream",
     "text": [
      "(10000L, 2L)\n",
      "[[ 328.09290555  316.6648683   305.44447299 ...,  186.35412584\n",
      "   195.06735595  203.98822799]\n",
      " [ 323.26504192  311.92025945  300.7831189  ...,  189.60197489\n",
      "   198.39845977  207.40258658]\n",
      " [ 318.47799046  307.21646275  296.16257698 ...,  192.89063611\n",
      "   201.77037576  210.85775734]\n",
      " ..., \n",
      " [  49.81156018   46.45923561   43.31455298 ...,  691.41691065\n",
      "   708.20585345  725.20243817]\n",
      " [  48.94247627   45.67340647   42.61197861 ...,  698.62353943\n",
      "   715.49573699  732.57557648]\n",
      " [  48.11420452   44.9283895    41.95021641 ...,  705.87098036\n",
      "   722.82643269  739.98952696]]\n",
      "(100L, 100L)\n"
     ]
    }
   ],
   "source": [
    "# j_val计算正确\n",
    "# 画3D图\n",
    "N, M = 100, 100     # 横纵各采样多少个值\n",
    "x1_min, x1_max = -10, 10   # 第0列的范围\n",
    "x2_min, x2_max = -1, 4     # 第1列的范围\n",
    "t1 = np.linspace(x1_min, x1_max, N)\n",
    "t2 = np.linspace(x2_min, x2_max, M)\n",
    "x1, x2 = np.meshgrid(t1, t2)                    # 生成网格采样点\n",
    "x_test = np.stack((x1.flat, x2.flat), axis=1)   # 测试点\n",
    "\n",
    "print x_test.shape\n",
    "\n",
    "j_vals = np.zeros(x1.shape)\n",
    "for i in range(len(t1)):\n",
    "    for j in range(len(t2)):\n",
    "        j_vals[i][j] = computeCost(X, y, np.array([[t1[i]], [t2[j]]]))\n",
    "\n",
    "print j_vals\n",
    "print j_vals.shape\n",
    "\n",
    "fig = plt.figure()\n",
    "# ax = fig.add_subplot(111, projection='3d')\n",
    "# ax.plot_surface(x1, x2, j_vals.reshape(x1.shape), rstride=1, cstride=1, cmap=cm.coolwarm, linewidth=0)\n",
    "ax = fig.gca(projection='3d')\n",
    "surf = ax.plot_surface(x1, x2, j_vals, rstride=1, cstride=1, cmap=cm.rainbow, linewidth=0, antialiased=False)\n",
    "fig.colorbar(surf, shrink=0.5, aspect=5)\n",
    "plt.show()"
   ]
  },
  {
   "cell_type": "code",
   "execution_count": 63,
   "metadata": {
    "collapsed": false
   },
   "outputs": [],
   "source": [
    "\n",
    "# level = np.logspace(0, 3, 8)\n",
    "level = np.array([6, 12, 24, 48, 96, 192, 364, 600, 1200])\n",
    "# plt.contour(x1, x2, j_vals, colors=list('krk'), linestyles=['--', '-', '--'], linewidths=[1, 2, 1], levels=[-1, 0, 1])\n",
    "plt.contour(x1, x2, j_vals, colors=list('krk'),  levels=level)\n",
    "plt.clabel(CS, inline=1, fontsize=10)\n",
    "plt.xlim(x1_min, x1_max)\n",
    "plt.ylim(x2_min, x2_max)\n",
    "plt.title(\"contour\")\n",
    "plt.grid()\n",
    "plt.show()"
   ]
  }
 ],
 "metadata": {
  "kernelspec": {
   "display_name": "Python 2",
   "language": "python",
   "name": "python2"
  },
  "language_info": {
   "codemirror_mode": {
    "name": "ipython",
    "version": 2
   },
   "file_extension": ".py",
   "mimetype": "text/x-python",
   "name": "python",
   "nbconvert_exporter": "python",
   "pygments_lexer": "ipython2",
   "version": "2.7.12"
  }
 },
 "nbformat": 4,
 "nbformat_minor": 0
}
