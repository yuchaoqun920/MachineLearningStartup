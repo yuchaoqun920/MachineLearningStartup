{
 "cells": [
  {
   "cell_type": "code",
   "execution_count": 5,
   "metadata": {
    "collapsed": false
   },
   "outputs": [],
   "source": [
    "import math\n",
    "import numpy as np\n",
    "import matplotlib.pyplot as plt\n",
    "\n",
    "x = np.array(np.linspace(start=-3, stop=3, num=1001, dtype=np.float))\n",
    "y_logit = np.log(1 + np.exp(-x))/math.log(2)\n",
    "y_01 = x < 0\n",
    "y_hinge = 1.0 -x\n",
    "y_hinge[y_hinge<0] = 0\n",
    "y_square = (x-1)**2\n",
    "y_exponential = np.exp(-x)\n",
    "\n",
    "plt.plot(x, y_logit, 'r--', label='Logistic Loss', linewidth=2)\n",
    "plt.plot(x, y_01, 'g-', label='0/1 Loss', linewidth=2)\n",
    "plt.plot(x, y_hinge, 'b-', label='Hinge Loss', linewidth=2)\n",
    "plt.plot(x, y_square, 'k-', label='Square Loss', linewidth=2)\n",
    "plt.plot(x, y_exponential, '-', label='Exponential Loss', linewidth=2)\n",
    "plt.grid()\n",
    "plt.ylim((0, 9))\n",
    "plt.xlim((-2, 2))\n",
    "plt.legend(loc='upper right')\n",
    "plt.savefig('1.png')\n",
    "plt.show()"
   ]
  }
 ],
 "metadata": {
  "kernelspec": {
   "display_name": "Python 2",
   "language": "python",
   "name": "python2"
  },
  "language_info": {
   "codemirror_mode": {
    "name": "ipython",
    "version": 2
   },
   "file_extension": ".py",
   "mimetype": "text/x-python",
   "name": "python",
   "nbconvert_exporter": "python",
   "pygments_lexer": "ipython2",
   "version": "2.7.12"
  }
 },
 "nbformat": 4,
 "nbformat_minor": 0
}
