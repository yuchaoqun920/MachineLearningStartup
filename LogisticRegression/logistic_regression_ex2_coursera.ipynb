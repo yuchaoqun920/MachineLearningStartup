{
 "cells": [
  {
   "cell_type": "code",
   "execution_count": 7,
   "metadata": {
    "collapsed": false,
    "scrolled": true
   },
   "outputs": [
    {
     "name": "stdout",
     "output_type": "stream",
     "text": [
      "(100L, 3L)\n",
      "[[ 0.]\n",
      " [ 0.]\n",
      " [ 0.]\n",
      " [ 1.]\n",
      " [ 1.]\n",
      " [ 0.]\n",
      " [ 1.]\n",
      " [ 1.]\n",
      " [ 1.]\n",
      " [ 1.]\n",
      " [ 0.]\n",
      " [ 0.]\n",
      " [ 1.]\n",
      " [ 1.]\n",
      " [ 0.]\n",
      " [ 1.]\n",
      " [ 1.]\n",
      " [ 0.]\n",
      " [ 1.]\n",
      " [ 1.]\n",
      " [ 0.]\n",
      " [ 1.]\n",
      " [ 0.]\n",
      " [ 0.]\n",
      " [ 1.]\n",
      " [ 1.]\n",
      " [ 1.]\n",
      " [ 0.]\n",
      " [ 0.]\n",
      " [ 0.]\n",
      " [ 1.]\n",
      " [ 1.]\n",
      " [ 0.]\n",
      " [ 1.]\n",
      " [ 0.]\n",
      " [ 0.]\n",
      " [ 0.]\n",
      " [ 1.]\n",
      " [ 0.]\n",
      " [ 0.]\n",
      " [ 1.]\n",
      " [ 0.]\n",
      " [ 1.]\n",
      " [ 0.]\n",
      " [ 0.]\n",
      " [ 0.]\n",
      " [ 1.]\n",
      " [ 1.]\n",
      " [ 1.]\n",
      " [ 1.]\n",
      " [ 1.]\n",
      " [ 1.]\n",
      " [ 1.]\n",
      " [ 0.]\n",
      " [ 0.]\n",
      " [ 0.]\n",
      " [ 1.]\n",
      " [ 0.]\n",
      " [ 1.]\n",
      " [ 1.]\n",
      " [ 1.]\n",
      " [ 0.]\n",
      " [ 0.]\n",
      " [ 0.]\n",
      " [ 0.]\n",
      " [ 0.]\n",
      " [ 1.]\n",
      " [ 0.]\n",
      " [ 1.]\n",
      " [ 1.]\n",
      " [ 0.]\n",
      " [ 1.]\n",
      " [ 1.]\n",
      " [ 1.]\n",
      " [ 1.]\n",
      " [ 1.]\n",
      " [ 1.]\n",
      " [ 1.]\n",
      " [ 0.]\n",
      " [ 0.]\n",
      " [ 1.]\n",
      " [ 1.]\n",
      " [ 1.]\n",
      " [ 1.]\n",
      " [ 1.]\n",
      " [ 1.]\n",
      " [ 0.]\n",
      " [ 1.]\n",
      " [ 1.]\n",
      " [ 0.]\n",
      " [ 1.]\n",
      " [ 1.]\n",
      " [ 0.]\n",
      " [ 1.]\n",
      " [ 1.]\n",
      " [ 1.]\n",
      " [ 1.]\n",
      " [ 1.]\n",
      " [ 1.]\n",
      " [ 1.]]\n"
     ]
    }
   ],
   "source": [
    "#!/usr/bin/python\n",
    "# -*- coding:utf-8 -*-\n",
    "\n",
    "import numpy as np\n",
    "\n",
    "data = np.loadtxt('ex2data1.txt', delimiter=',')\n",
    "print data.shape\n",
    "\n",
    "X, y = np.split(data, (2, ), axis=1)\n",
    "print y"
   ]
  },
  {
   "cell_type": "code",
   "execution_count": 35,
   "metadata": {
    "collapsed": false
   },
   "outputs": [
    {
     "name": "stdout",
     "output_type": "stream",
     "text": [
      "60\n"
     ]
    }
   ],
   "source": [
    "pos = y==1\n",
    "neg = y==0\n",
    "print len(y[pos])\n",
    "x1 = X[:, 0].reshape(-1,1)\n",
    "x2 = X[:, 1].reshape(-1,1)\n",
    "plt.plot(x1[pos], x2[pos], 'k+', linewidth=4, markersize=7, label='Admitted')\n",
    "plt.plot(x1[neg], x2[neg], 'yo', linewidth=4, markersize=6, label='Not admitted')\n",
    "plt.xlabel('Exam 1 score')\n",
    "plt.ylabel('Exam 2 score')\n",
    "plt.title('Final Results')\n",
    "# plt.legend(loc='upper left')\n",
    "plt.legend(loc='upper right')\n",
    "plt.show()"
   ]
  },
  {
   "cell_type": "code",
   "execution_count": 37,
   "metadata": {
    "collapsed": false
   },
   "outputs": [
    {
     "name": "stdout",
     "output_type": "stream",
     "text": [
      "Plotting data with + indicating (y = 1) examples and o indicating (y = 0) examples.\n",
      "\n",
      "60\n"
     ]
    }
   ],
   "source": [
    "# Plotting\n",
    "\n",
    "import matplotlib as mpl\n",
    "import matplotlib.pyplot as plt\n",
    "print 'Plotting data with + indicating (y = 1) examples and o '\\\n",
    "'indicating (y = 0) examples.\\n'\n",
    "\n",
    "def plotData(X, y):\n",
    "    pos = y==1\n",
    "    neg = y==0\n",
    "#     print len(y[pos])\n",
    "    x1 = X[:, 0].reshape(-1,1)\n",
    "    x2 = X[:, 1].reshape(-1,1)\n",
    "    plt.plot(x1[pos], x2[pos], 'k+', linewidth=4, markersize=7, label='Admitted')\n",
    "    plt.plot(x1[neg], x2[neg], 'yo', linewidth=4, markersize=6, label='Not admitted')\n",
    "    plt.xlabel('Exam 1 score')\n",
    "    plt.ylabel('Exam 2 score')\n",
    "    plt.title('Final Results')\n",
    "    # plt.legend(loc='upper left')\n",
    "    plt.legend(loc='upper right')\n",
    "    plt.show()\n",
    "\n",
    "plotData(X, y)"
   ]
  },
  {
   "cell_type": "code",
   "execution_count": 196,
   "metadata": {
    "collapsed": false
   },
   "outputs": [
    {
     "name": "stdout",
     "output_type": "stream",
     "text": [
      "100 2\n",
      "(100L, 1L)\n",
      "0.69314718056\n"
     ]
    }
   ],
   "source": [
    "def sigmoid(Z):\n",
    "    expz = np.exp(-Z)\n",
    "    sigmd = 1/(1+expz)\n",
    "    return sigmd\n",
    "\n",
    "def costFunction(X, y, theta):\n",
    "    m = len(y)\n",
    "    hx = sigmoid(np.dot(X, theta))\n",
    "    print hx.shape\n",
    "    j = -1*np.dot(y.T, np.log(hx)) - np.dot((1-y.T), np.log(1-hx))\n",
    "    j=j/m\n",
    "#     grad = np.dot(X.T, (hx-y))/m\n",
    "    return j[0][0]\n",
    "\n",
    "def costFunction2(X, y, theta):\n",
    "    m = len(y)\n",
    "#     print np.dot(X, theta)\n",
    "    hx = sigmoid(np.dot(X, theta))\n",
    "#     print hx\n",
    "#     print hx.shape\n",
    "    j = -1*np.dot(y.T, np.log(hx)) - np.dot((1-y.T), np.log(1-hx))\n",
    "    j=j/m\n",
    "    # grad = X'.(hx-y)/m\n",
    "    grad = np.dot(X.T, (hx-y))/m\n",
    "    return j[0][0], grad\n",
    "    \n",
    "(m, n)=X.shape\n",
    "print m, n\n",
    "Xt = np.hstack((np.ones((m, 1)), X))\n",
    "initial_theta = np.zeros((n+1, 1))\n",
    "cost= costFunction(Xt, y, initial_theta)\n",
    "print cost\n",
    "theta = initial_theta\n",
    "# cost,grad = costFunction2(Xt, y, initial_theta)\n",
    "# print cost, grad"
   ]
  },
  {
   "cell_type": "code",
   "execution_count": 211,
   "metadata": {
    "collapsed": false,
    "scrolled": false
   },
   "outputs": [
    {
     "name": "stdout",
     "output_type": "stream",
     "text": [
      "0.237358524737\n",
      "[[-29.9957439 ]\n",
      " [  0.25565616]\n",
      " [  0.24972642]]\n"
     ]
    }
   ],
   "source": [
    "# 直接使用梯度下降，收敛非常慢，需要更高级的优化算法\n",
    "alpha=0.005\n",
    "for i in range(1000000):\n",
    "    j, delta=costFunction2(Xt, y, theta)\n",
    "#     print j, delta\n",
    "    theta = theta - alpha*delta\n",
    "print j\n",
    "print theta"
   ]
  },
  {
   "cell_type": "code",
   "execution_count": 217,
   "metadata": {
    "collapsed": false
   },
   "outputs": [
    {
     "name": "stdout",
     "output_type": "stream",
     "text": [
      "[[ 0.20352489]\n",
      " [ 0.20352489]\n",
      " [ 0.20352489]\n",
      " ..., \n",
      " [ 0.20352472]\n",
      " [ 0.20352472]\n",
      " [ 0.20352472]]\n",
      "[[-24.73813787]\n",
      " [  0.20284681]\n",
      " [  0.1980472 ]]\n"
     ]
    }
   ],
   "source": [
    "# 直接使用梯度下降，收敛非常慢，需要更高级的优化算法\n",
    "# 迭代次数10,000,000，一千万次，勉强收敛到一个比较好的值\n",
    "def gradientDescent(X, y, theta, alpha, costfunc, iterations):\n",
    "    m = len(y)\n",
    "    j_history = np.zeros((iterations, 1))\n",
    "\n",
    "    for iter in range(iterations):\n",
    "        j_history[iter], delta = costfunc(X, y, theta)\n",
    "        theta = theta - alpha*delta\n",
    "\n",
    "    # plt.plot(j_history, 'b-', linewidth=4)\n",
    "    # plt.show()\n",
    "    print j_history\n",
    "\n",
    "    return theta\n",
    "\n",
    "theta = gradientDescent(Xt, y, theta, 0.001, costFunction2, 10000000)\n",
    "print theta"
   ]
  },
  {
   "cell_type": "code",
   "execution_count": 232,
   "metadata": {
    "collapsed": false
   },
   "outputs": [
    {
     "name": "stdout",
     "output_type": "stream",
     "text": [
      "[[ 0.20350725]\n",
      " [ 0.20350725]\n",
      " [ 0.20350725]\n",
      " ..., \n",
      " [ 0.2034977 ]\n",
      " [ 0.2034977 ]\n",
      " [ 0.2034977 ]]\n",
      "[[-25.16130031]\n",
      " [  0.20623145]\n",
      " [  0.20147133]]\n"
     ]
    }
   ],
   "source": [
    "theta = gradientDescent(Xt, y, theta, 0.003, costFunction2, 10000000)\n",
    "print theta"
   ]
  },
  {
   "cell_type": "code",
   "execution_count": 238,
   "metadata": {
    "collapsed": false
   },
   "outputs": [
    {
     "name": "stdout",
     "output_type": "stream",
     "text": [
      "For a student with scores 45 and 85, we predict an admission  probability of 0.776290\n",
      "\n",
      "\n",
      "accuracy: 89.00%\n",
      "\n"
     ]
    }
   ],
   "source": [
    "# 预测\n",
    "def predict(X, theta):\n",
    "    m = len(X)\n",
    "    p = sigmoid(np.dot(X, theta))\n",
    "    return p\n",
    "prob = sigmoid(np.dot(np.array([1, 45, 85]), theta))\n",
    "print 'For a student with scores 45 and 85, we predict an admission ', 'probability of %f\\n' % prob\n",
    "\n",
    "# 计算训练准确率\n",
    "p = predict(Xt, theta)\n",
    "p_r = p>=0.5\n",
    "# print p_r\n",
    "accuracy = np.mean(p_r==y)\n",
    "print 'accuracy: %0.2f%%\\n' % (accuracy*100)"
   ]
  },
  {
   "cell_type": "code",
   "execution_count": 65,
   "metadata": {
    "collapsed": true
   },
   "outputs": [
    {
     "name": "stdout",
     "output_type": "stream",
     "text": [
      "(100L, 1L)\n"
     ]
    },
    {
     "ename": "TypeError",
     "evalue": "'numpy.float64' object is not callable",
     "traceback": [
      "\u001b[1;31m---------------------------------------------------------------------------\u001b[0m",
      "\u001b[1;31mTypeError\u001b[0m                                 Traceback (most recent call last)",
      "\u001b[1;32m<ipython-input-65-35ba3bac62ef>\u001b[0m in \u001b[0;36m<module>\u001b[1;34m()\u001b[0m\n\u001b[0;32m      1\u001b[0m \u001b[1;32mimport\u001b[0m \u001b[0mscipy\u001b[0m\u001b[1;33m.\u001b[0m\u001b[0moptimize\u001b[0m \u001b[1;32mas\u001b[0m \u001b[0mopt\u001b[0m\u001b[1;33m\u001b[0m\u001b[0m\n\u001b[1;32m----> 2\u001b[1;33m \u001b[0ma\u001b[0m \u001b[1;33m=\u001b[0m \u001b[0mopt\u001b[0m\u001b[1;33m.\u001b[0m\u001b[0mfmin\u001b[0m\u001b[1;33m(\u001b[0m\u001b[0mcostFunction\u001b[0m\u001b[1;33m(\u001b[0m\u001b[0mXt\u001b[0m\u001b[1;33m,\u001b[0m \u001b[0my\u001b[0m\u001b[1;33m,\u001b[0m \u001b[0minitial_theta\u001b[0m\u001b[1;33m)\u001b[0m\u001b[1;33m,\u001b[0m \u001b[1;36m5\u001b[0m\u001b[1;33m)\u001b[0m\u001b[1;33m\u001b[0m\u001b[0m\n\u001b[0m\u001b[0;32m      3\u001b[0m \u001b[1;31m# theta=initial_theta\u001b[0m\u001b[1;33m\u001b[0m\u001b[1;33m\u001b[0m\u001b[0m\n\u001b[0;32m      4\u001b[0m \u001b[1;31m# j, delta=costFunction2(Xt, y, theta)\u001b[0m\u001b[1;33m\u001b[0m\u001b[1;33m\u001b[0m\u001b[0m\n\u001b[0;32m      5\u001b[0m \u001b[1;31m# print j, delta\u001b[0m\u001b[1;33m\u001b[0m\u001b[1;33m\u001b[0m\u001b[0m\n",
      "\u001b[1;32mC:\\Users\\Chase\\Anaconda2\\lib\\site-packages\\scipy\\optimize\\optimize.pyc\u001b[0m in \u001b[0;36mfmin\u001b[1;34m(func, x0, args, xtol, ftol, maxiter, maxfun, full_output, disp, retall, callback, initial_simplex)\u001b[0m\n\u001b[0;32m    391\u001b[0m             'initial_simplex': initial_simplex}\n\u001b[0;32m    392\u001b[0m \u001b[1;33m\u001b[0m\u001b[0m\n\u001b[1;32m--> 393\u001b[1;33m     \u001b[0mres\u001b[0m \u001b[1;33m=\u001b[0m \u001b[0m_minimize_neldermead\u001b[0m\u001b[1;33m(\u001b[0m\u001b[0mfunc\u001b[0m\u001b[1;33m,\u001b[0m \u001b[0mx0\u001b[0m\u001b[1;33m,\u001b[0m \u001b[0margs\u001b[0m\u001b[1;33m,\u001b[0m \u001b[0mcallback\u001b[0m\u001b[1;33m=\u001b[0m\u001b[0mcallback\u001b[0m\u001b[1;33m,\u001b[0m \u001b[1;33m**\u001b[0m\u001b[0mopts\u001b[0m\u001b[1;33m)\u001b[0m\u001b[1;33m\u001b[0m\u001b[0m\n\u001b[0m\u001b[0;32m    394\u001b[0m     \u001b[1;32mif\u001b[0m \u001b[0mfull_output\u001b[0m\u001b[1;33m:\u001b[0m\u001b[1;33m\u001b[0m\u001b[0m\n\u001b[0;32m    395\u001b[0m         \u001b[0mretlist\u001b[0m \u001b[1;33m=\u001b[0m \u001b[0mres\u001b[0m\u001b[1;33m[\u001b[0m\u001b[1;34m'x'\u001b[0m\u001b[1;33m]\u001b[0m\u001b[1;33m,\u001b[0m \u001b[0mres\u001b[0m\u001b[1;33m[\u001b[0m\u001b[1;34m'fun'\u001b[0m\u001b[1;33m]\u001b[0m\u001b[1;33m,\u001b[0m \u001b[0mres\u001b[0m\u001b[1;33m[\u001b[0m\u001b[1;34m'nit'\u001b[0m\u001b[1;33m]\u001b[0m\u001b[1;33m,\u001b[0m \u001b[0mres\u001b[0m\u001b[1;33m[\u001b[0m\u001b[1;34m'nfev'\u001b[0m\u001b[1;33m]\u001b[0m\u001b[1;33m,\u001b[0m \u001b[0mres\u001b[0m\u001b[1;33m[\u001b[0m\u001b[1;34m'status'\u001b[0m\u001b[1;33m]\u001b[0m\u001b[1;33m\u001b[0m\u001b[0m\n",
      "\u001b[1;32mC:\\Users\\Chase\\Anaconda2\\lib\\site-packages\\scipy\\optimize\\optimize.pyc\u001b[0m in \u001b[0;36m_minimize_neldermead\u001b[1;34m(func, x0, args, callback, maxiter, maxfev, disp, return_all, initial_simplex, xatol, fatol, **unknown_options)\u001b[0m\n\u001b[0;32m    515\u001b[0m \u001b[1;33m\u001b[0m\u001b[0m\n\u001b[0;32m    516\u001b[0m     \u001b[1;32mfor\u001b[0m \u001b[0mk\u001b[0m \u001b[1;32min\u001b[0m \u001b[0mrange\u001b[0m\u001b[1;33m(\u001b[0m\u001b[0mN\u001b[0m \u001b[1;33m+\u001b[0m \u001b[1;36m1\u001b[0m\u001b[1;33m)\u001b[0m\u001b[1;33m:\u001b[0m\u001b[1;33m\u001b[0m\u001b[0m\n\u001b[1;32m--> 517\u001b[1;33m         \u001b[0mfsim\u001b[0m\u001b[1;33m[\u001b[0m\u001b[0mk\u001b[0m\u001b[1;33m]\u001b[0m \u001b[1;33m=\u001b[0m \u001b[0mfunc\u001b[0m\u001b[1;33m(\u001b[0m\u001b[0msim\u001b[0m\u001b[1;33m[\u001b[0m\u001b[0mk\u001b[0m\u001b[1;33m]\u001b[0m\u001b[1;33m)\u001b[0m\u001b[1;33m\u001b[0m\u001b[0m\n\u001b[0m\u001b[0;32m    518\u001b[0m \u001b[1;33m\u001b[0m\u001b[0m\n\u001b[0;32m    519\u001b[0m     \u001b[0mind\u001b[0m \u001b[1;33m=\u001b[0m \u001b[0mnumpy\u001b[0m\u001b[1;33m.\u001b[0m\u001b[0margsort\u001b[0m\u001b[1;33m(\u001b[0m\u001b[0mfsim\u001b[0m\u001b[1;33m)\u001b[0m\u001b[1;33m\u001b[0m\u001b[0m\n",
      "\u001b[1;32mC:\\Users\\Chase\\Anaconda2\\lib\\site-packages\\scipy\\optimize\\optimize.pyc\u001b[0m in \u001b[0;36mfunction_wrapper\u001b[1;34m(*wrapper_args)\u001b[0m\n\u001b[0;32m    290\u001b[0m     \u001b[1;32mdef\u001b[0m \u001b[0mfunction_wrapper\u001b[0m\u001b[1;33m(\u001b[0m\u001b[1;33m*\u001b[0m\u001b[0mwrapper_args\u001b[0m\u001b[1;33m)\u001b[0m\u001b[1;33m:\u001b[0m\u001b[1;33m\u001b[0m\u001b[0m\n\u001b[0;32m    291\u001b[0m         \u001b[0mncalls\u001b[0m\u001b[1;33m[\u001b[0m\u001b[1;36m0\u001b[0m\u001b[1;33m]\u001b[0m \u001b[1;33m+=\u001b[0m \u001b[1;36m1\u001b[0m\u001b[1;33m\u001b[0m\u001b[0m\n\u001b[1;32m--> 292\u001b[1;33m         \u001b[1;32mreturn\u001b[0m \u001b[0mfunction\u001b[0m\u001b[1;33m(\u001b[0m\u001b[1;33m*\u001b[0m\u001b[1;33m(\u001b[0m\u001b[0mwrapper_args\u001b[0m \u001b[1;33m+\u001b[0m \u001b[0margs\u001b[0m\u001b[1;33m)\u001b[0m\u001b[1;33m)\u001b[0m\u001b[1;33m\u001b[0m\u001b[0m\n\u001b[0m\u001b[0;32m    293\u001b[0m \u001b[1;33m\u001b[0m\u001b[0m\n\u001b[0;32m    294\u001b[0m     \u001b[1;32mreturn\u001b[0m \u001b[0mncalls\u001b[0m\u001b[1;33m,\u001b[0m \u001b[0mfunction_wrapper\u001b[0m\u001b[1;33m\u001b[0m\u001b[0m\n",
      "\u001b[1;31mTypeError\u001b[0m: 'numpy.float64' object is not callable"
     ],
     "output_type": "error"
    }
   ],
   "source": [
    "import scipy.optimize as opt\n",
    "a = opt.fmin(costFunction(Xt, y, initial_theta), 5)\n",
    "# theta=initial_theta\n",
    "# j, delta=costFunction2(Xt, y, theta)\n",
    "# print j, delta\n",
    "# theta = theta - delta\n",
    "print a"
   ]
  },
  {
   "cell_type": "code",
   "execution_count": 97,
   "metadata": {
    "collapsed": false
   },
   "outputs": [
    {
     "name": "stdout",
     "output_type": "stream",
     "text": [
      "[[  3.44247711e-14   4.53978687e-05   4.74258732e-02   7.31058579e-01\n",
      "    9.52574127e-01   9.82013790e-01]\n",
      " [  3.44247711e-14   4.53978687e-05   4.74258732e-02   7.31058579e-01\n",
      "    9.52574127e-01   9.82013790e-01]] (2L, 6L)\n",
      "[[False False False  True  True  True]\n",
      " [False False False  True  True  True]]\n",
      "[1 3 4 1 3 4]\n"
     ]
    },
    {
     "data": {
      "text/plain": [
       "array([ 0.        ,  1.09861229,  1.38629436,  0.        ,  1.09861229,\n",
       "        1.38629436])"
      ]
     },
     "execution_count": 97,
     "metadata": {},
     "output_type": "execute_result"
    }
   ],
   "source": [
    "A = np.array([[-31, -10, -3, 1,3,4], [-31, -10, -3, 1,3,4]])\n",
    "sigm = sigmoid(A)\n",
    "print sigm,sigm.shape\n",
    "print A>0\n",
    "print A[A>0]\n",
    "np.log(A[A>0])"
   ]
  }
 ],
 "metadata": {
  "kernelspec": {
   "display_name": "Python 2",
   "language": "python",
   "name": "python2"
  },
  "language_info": {
   "codemirror_mode": {
    "name": "ipython",
    "version": 2.0
   },
   "file_extension": ".py",
   "mimetype": "text/x-python",
   "name": "python",
   "nbconvert_exporter": "python",
   "pygments_lexer": "ipython2",
   "version": "2.7.12"
  }
 },
 "nbformat": 4,
 "nbformat_minor": 0
}